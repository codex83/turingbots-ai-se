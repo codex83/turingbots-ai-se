{
 "cells": [
  {
   "cell_type": "code",
   "execution_count": 1,
   "id": "c46f5ba0-7e7f-43c2-b7a9-242f737cb103",
   "metadata": {
    "tags": []
   },
   "outputs": [],
   "source": [
    "import os\n",
    "import subprocess\n",
    "import datetime\n",
    "import pandas as pd\n",
    "import numpy as np\n",
    "\n",
    "import matplotlib.pyplot as plt\n",
    "import seaborn as sns\n",
    "\n",
    "from pyspark.sql import functions as F\n",
    "from pyspark.sql.functions import explode, col, count, from_unixtime, floor, date_format, hour\n",
    "from pyspark.sql.types import *\n",
    "from pyspark.sql.functions import sum as spark_sum\n",
    "\n",
    "pd.set_option('display.max_rows', 100)\n",
    "pd.set_option('display.max_columns', None)\n",
    "pd.set_option('display.max_colwidth', None)"
   ]
  },
  {
   "cell_type": "code",
   "execution_count": 2,
   "id": "b399fbd2-7129-48a6-8996-bfe095889c24",
   "metadata": {
    "tags": []
   },
   "outputs": [],
   "source": [
    "spark.conf.set(\"spark.sql.repl.eagerEval.enabled\",True)"
   ]
  },
  {
   "cell_type": "code",
   "execution_count": 3,
   "id": "64a16c3a-ed79-43bb-acf5-43811445354f",
   "metadata": {
    "tags": []
   },
   "outputs": [],
   "source": [
    "gcs_folder = 'gs://msca-bdp-data-open/final_project_git'"
   ]
  },
  {
   "cell_type": "markdown",
   "id": "4fa168cf-ec87-471d-95b2-15421a8136ba",
   "metadata": {},
   "source": [
    "## Data Cleaning Functions"
   ]
  },
  {
   "cell_type": "code",
   "execution_count": 4,
   "id": "35522ffd-50f1-415f-8630-0b11fee21280",
   "metadata": {},
   "outputs": [],
   "source": [
    "def null_count(df):\n",
    "    return df.select([\n",
    "    F.sum(F.col(c).isNull().cast(\"int\")).alias(c) \n",
    "     for c in df.columns\n",
    "    ]).show(truncate=False)"
   ]
  },
  {
   "cell_type": "code",
   "execution_count": 5,
   "id": "63bdb2b5-7bd2-4467-a1c9-ac074bfc730e",
   "metadata": {
    "tags": []
   },
   "outputs": [],
   "source": [
    "def show_duplicates(df):\n",
    "    df.groupBy(*df.columns) \\\n",
    "    .agg(count(\"*\").alias(\"duplicate_count\")) \\\n",
    "    .filter(col(\"duplicate_count\") > 1) \\\n",
    "    .show(truncate=False)"
   ]
  },
  {
   "cell_type": "markdown",
   "id": "f87235a4-67fd-40e9-a4b9-db9e2cfcf8e2",
   "metadata": {
    "tags": []
   },
   "source": [
    "# Contents Data"
   ]
  },
  {
   "cell_type": "code",
   "execution_count": 6,
   "id": "9289c1bb-7921-4731-8cff-745ae4e9cb4b",
   "metadata": {
    "tags": []
   },
   "outputs": [
    {
     "name": "stderr",
     "output_type": "stream",
     "text": [
      "[Stage 3:>                                                          (0 + 1) / 1]\r"
     ]
    },
    {
     "name": "stdout",
     "output_type": "stream",
     "text": [
      "Records read from dataframe *contents*: 281,191,977\n",
      "root\n",
      " |-- id: string (nullable = true)\n",
      " |-- size: long (nullable = true)\n",
      " |-- content: string (nullable = true)\n",
      " |-- binary: boolean (nullable = true)\n",
      " |-- copies: long (nullable = true)\n",
      "\n"
     ]
    },
    {
     "name": "stderr",
     "output_type": "stream",
     "text": [
      "                                                                                \r"
     ]
    }
   ],
   "source": [
    "df_contents = spark.read.parquet(os.path.join(gcs_folder, 'contents'))\n",
    "print(f'Records read from dataframe *contents*: {df_contents.count():,.0f}')\n",
    "df_contents.printSchema()"
   ]
  },
  {
   "cell_type": "code",
   "execution_count": 7,
   "id": "5fcd71c3-1333-45dc-97f1-52cb537c2263",
   "metadata": {
    "tags": []
   },
   "outputs": [
    {
     "name": "stderr",
     "output_type": "stream",
     "text": [
      "                                                                                \r"
     ]
    },
    {
     "name": "stdout",
     "output_type": "stream",
     "text": [
      "+--------------------+------+-------+------+------+\n",
      "|                  id|  size|content|binary|copies|\n",
      "+--------------------+------+-------+------+------+\n",
      "|aa596e6c20a3fff6c...|   462|   NULL|  true|     1|\n",
      "|2340397bdc5e80fcf...|  5187|   NULL|  true|     1|\n",
      "|79a32dd0782247f2a...| 58350|   NULL|  true|     1|\n",
      "|a29adf479806a92b8...|502609|   NULL|  true|     1|\n",
      "|431a6f4969e89dc26...| 25615|   NULL|  true|     1|\n",
      "+--------------------+------+-------+------+------+\n",
      "only showing top 5 rows\n",
      "\n"
     ]
    }
   ],
   "source": [
    "# Taking a sample of the data\n",
    "sample_df_contents = df_contents.sample(fraction = 0.01, seed = 42)\n",
    "sample_df_contents.show(5)"
   ]
  },
  {
   "cell_type": "code",
   "execution_count": 8,
   "id": "9f594924-9e84-4662-bd7c-abecdf1cadff",
   "metadata": {
    "tags": []
   },
   "outputs": [
    {
     "name": "stderr",
     "output_type": "stream",
     "text": [
      "[Stage 7:>                                                          (0 + 1) / 1]\r"
     ]
    },
    {
     "name": "stdout",
     "output_type": "stream",
     "text": [
      "+---+----+-------+------+------+\n",
      "|id |size|content|binary|copies|\n",
      "+---+----+-------+------+------+\n",
      "|0  |0   |530556 |0     |0     |\n",
      "+---+----+-------+------+------+\n",
      "\n"
     ]
    },
    {
     "name": "stderr",
     "output_type": "stream",
     "text": [
      "                                                                                \r"
     ]
    }
   ],
   "source": [
    "# Missing Values\n",
    "null_count(sample_df_contents)"
   ]
  },
  {
   "cell_type": "code",
   "execution_count": 12,
   "id": "cfc68ab8-4015-4e00-90b9-08d520d59426",
   "metadata": {
    "tags": []
   },
   "outputs": [],
   "source": [
    "df_cleaned_contents = sample_df_contents.dropna()"
   ]
  },
  {
   "cell_type": "code",
   "execution_count": 13,
   "id": "840540ca-72ed-43bf-a973-32f0b3d89f0c",
   "metadata": {
    "tags": []
   },
   "outputs": [
    {
     "name": "stderr",
     "output_type": "stream",
     "text": [
      "[Stage 24:===================================================>(6980 + 1) / 6981]\r"
     ]
    },
    {
     "name": "stdout",
     "output_type": "stream",
     "text": [
      "+---+----+-------+------+------+\n",
      "|id |size|content|binary|copies|\n",
      "+---+----+-------+------+------+\n",
      "|0  |0   |0      |0     |0     |\n",
      "+---+----+-------+------+------+\n",
      "\n"
     ]
    },
    {
     "name": "stderr",
     "output_type": "stream",
     "text": [
      "                                                                                \r"
     ]
    }
   ],
   "source": [
    "# Check missing values again\n",
    "null_count(df_cleaned_contents)"
   ]
  },
  {
   "cell_type": "code",
   "execution_count": 14,
   "id": "99d72bb8-b7fb-4e8d-8f77-602023d33a02",
   "metadata": {
    "tags": []
   },
   "outputs": [
    {
     "name": "stderr",
     "output_type": "stream",
     "text": [
      "[Stage 37:==============================================>         (36 + 7) / 43]\r"
     ]
    },
    {
     "name": "stdout",
     "output_type": "stream",
     "text": [
      "+---+----+-------+------+------+---------------+\n",
      "|id |size|content|binary|copies|duplicate_count|\n",
      "+---+----+-------+------+------+---------------+\n",
      "+---+----+-------+------+------+---------------+\n",
      "\n"
     ]
    },
    {
     "name": "stderr",
     "output_type": "stream",
     "text": [
      "                                                                                \r"
     ]
    }
   ],
   "source": [
    "# Duplicate values\n",
    "show_duplicates(df_cleaned_contents)"
   ]
  },
  {
   "cell_type": "code",
   "execution_count": null,
   "id": "a120f0ae-bced-4799-8462-1a30a09437c8",
   "metadata": {},
   "outputs": [],
   "source": []
  },
  {
   "cell_type": "code",
   "execution_count": null,
   "id": "7cc2b7d8-6696-4447-99e4-b7492fe7c43a",
   "metadata": {},
   "outputs": [],
   "source": []
  }
 ],
 "metadata": {
  "environment": {
   "kernel": "9c39b79e5d2e7072beb4bd59-runtime-000091a417d9",
   "name": "workbench-notebooks.m128",
   "type": "gcloud",
   "uri": "us-docker.pkg.dev/deeplearning-platform-release/gcr.io/workbench-notebooks:m128"
  },
  "kernelspec": {
   "display_name": "bdp-student-template on Serverless Spark (Remote)",
   "language": "python",
   "name": "9c39b79e5d2e7072beb4bd59-runtime-000091a417d9"
  },
  "language_info": {
   "codemirror_mode": {
    "name": "ipython",
    "version": 3
   },
   "file_extension": ".py",
   "mimetype": "text/x-python",
   "name": "python",
   "nbconvert_exporter": "python",
   "pygments_lexer": "ipython3",
   "version": "3.12.3"
  }
 },
 "nbformat": 4,
 "nbformat_minor": 5
}
