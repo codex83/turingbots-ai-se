{
 "cells": [
  {
   "cell_type": "code",
   "execution_count": 1,
   "id": "c46f5ba0-7e7f-43c2-b7a9-242f737cb103",
   "metadata": {
    "tags": []
   },
   "outputs": [],
   "source": [
    "import os\n",
    "import subprocess\n",
    "import datetime\n",
    "import pandas as pd\n",
    "import numpy as np\n",
    "\n",
    "import matplotlib.pyplot as plt\n",
    "import seaborn as sns\n",
    "\n",
    "from pyspark.sql import functions as F\n",
    "from pyspark.sql.functions import explode, col, count, from_unixtime, floor, date_format, hour\n",
    "from pyspark.sql.types import *\n",
    "from pyspark.sql.functions import sum as spark_sum\n",
    "\n",
    "pd.set_option('display.max_rows', 100)\n",
    "pd.set_option('display.max_columns', None)\n",
    "pd.set_option('display.max_colwidth', None)"
   ]
  },
  {
   "cell_type": "code",
   "execution_count": 2,
   "id": "b399fbd2-7129-48a6-8996-bfe095889c24",
   "metadata": {
    "tags": []
   },
   "outputs": [],
   "source": [
    "spark.conf.set(\"spark.sql.repl.eagerEval.enabled\",True)"
   ]
  },
  {
   "cell_type": "code",
   "execution_count": 3,
   "id": "64a16c3a-ed79-43bb-acf5-43811445354f",
   "metadata": {
    "tags": []
   },
   "outputs": [],
   "source": [
    "gcs_folder = 'gs://msca-bdp-data-open/final_project_git'"
   ]
  },
  {
   "cell_type": "markdown",
   "id": "4fa168cf-ec87-471d-95b2-15421a8136ba",
   "metadata": {},
   "source": [
    "## Data Cleaning Functions"
   ]
  },
  {
   "cell_type": "code",
   "execution_count": 4,
   "id": "35522ffd-50f1-415f-8630-0b11fee21280",
   "metadata": {},
   "outputs": [],
   "source": [
    "def null_count(df):\n",
    "    return df.select([\n",
    "    F.sum(F.col(c).isNull().cast(\"int\")).alias(c) \n",
    "     for c in df.columns\n",
    "    ]).show(truncate=False)"
   ]
  },
  {
   "cell_type": "code",
   "execution_count": 5,
   "id": "63bdb2b5-7bd2-4467-a1c9-ac074bfc730e",
   "metadata": {
    "tags": []
   },
   "outputs": [],
   "source": [
    "def show_duplicates(df):\n",
    "    df.groupBy(*df.columns) \\\n",
    "    .agg(count(\"*\").alias(\"duplicate_count\")) \\\n",
    "    .filter(col(\"duplicate_count\") > 1) \\\n",
    "    .show(truncate=False)"
   ]
  },
  {
   "cell_type": "markdown",
   "id": "f87235a4-67fd-40e9-a4b9-db9e2cfcf8e2",
   "metadata": {
    "tags": []
   },
   "source": [
    "# Files Data"
   ]
  },
  {
   "cell_type": "code",
   "execution_count": 7,
   "id": "9289c1bb-7921-4731-8cff-745ae4e9cb4b",
   "metadata": {
    "tags": []
   },
   "outputs": [
    {
     "name": "stderr",
     "output_type": "stream",
     "text": [
      "[Stage 2:====================================================>(1079 + 1) / 1080]\r"
     ]
    },
    {
     "name": "stdout",
     "output_type": "stream",
     "text": [
      "Records read from dataframe *licenses*: 2,309,424,945\n",
      "root\n",
      " |-- repo_name: string (nullable = true)\n",
      " |-- ref: string (nullable = true)\n",
      " |-- path: string (nullable = true)\n",
      " |-- mode: long (nullable = true)\n",
      " |-- id: string (nullable = true)\n",
      " |-- symlink_target: string (nullable = true)\n",
      "\n"
     ]
    },
    {
     "name": "stderr",
     "output_type": "stream",
     "text": [
      "                                                                                \r"
     ]
    }
   ],
   "source": [
    "df_files = spark.read.parquet(os.path.join(gcs_folder, 'files'))\n",
    "print(f'Records read from dataframe *licenses*: {df_files.count():,.0f}')\n",
    "df_files.printSchema()"
   ]
  },
  {
   "cell_type": "code",
   "execution_count": 8,
   "id": "5fcd71c3-1333-45dc-97f1-52cb537c2263",
   "metadata": {
    "tags": []
   },
   "outputs": [
    {
     "name": "stderr",
     "output_type": "stream",
     "text": [
      "                                                                                \r"
     ]
    },
    {
     "name": "stdout",
     "output_type": "stream",
     "text": [
      "+--------------------+-----------------+--------------------+-----+--------------------+--------------+\n",
      "|           repo_name|              ref|                path| mode|                  id|symlink_target|\n",
      "+--------------------+-----------------+--------------------+-----+--------------------+--------------+\n",
      "|         thx922/japi|refs/heads/master| html/img/yellow.png|33188|f2c08520ed9e9ac6a...|          NULL|\n",
      "|         thx922/japi|refs/heads/master|   html/img/next.png|33188|3530eda75a1ed196e...|          NULL|\n",
      "| tuxbox/matemonkey4j|refs/heads/master|matemonkey4j-api/...|33188|1eadeef6110f54782...|          NULL|\n",
      "|walterpalladino/c...|refs/heads/master|ComicStripLiveWal...|33188|c37372acb9ce85afc...|          NULL|\n",
      "|      wxylon/jeesite|refs/heads/master|src/main/webapp/s...|33188|513de77da7b5cb5a5...|          NULL|\n",
      "+--------------------+-----------------+--------------------+-----+--------------------+--------------+\n",
      "only showing top 5 rows\n",
      "\n"
     ]
    }
   ],
   "source": [
    "# Taking a sample of the data\n",
    "sample_df_files = df_files.sample(fraction = 0.01, seed = 42)\n",
    "sample_df_files.show(5)"
   ]
  },
  {
   "cell_type": "code",
   "execution_count": 9,
   "id": "9f594924-9e84-4662-bd7c-abecdf1cadff",
   "metadata": {
    "tags": []
   },
   "outputs": [
    {
     "name": "stderr",
     "output_type": "stream",
     "text": [
      "[Stage 8:>                                                          (0 + 1) / 1]\r"
     ]
    },
    {
     "name": "stdout",
     "output_type": "stream",
     "text": [
      "+---------+---+----+----+---+--------------+\n",
      "|repo_name|ref|path|mode|id |symlink_target|\n",
      "+---------+---+----+----+---+--------------+\n",
      "|0        |0  |0   |0   |0  |23037032      |\n",
      "+---------+---+----+----+---+--------------+\n",
      "\n"
     ]
    },
    {
     "name": "stderr",
     "output_type": "stream",
     "text": [
      "                                                                                \r"
     ]
    }
   ],
   "source": [
    "# Missing Values\n",
    "null_count(sample_df_files)"
   ]
  },
  {
   "cell_type": "code",
   "execution_count": 13,
   "id": "2f37e9e1-90ac-4d05-9509-c7c6c355eb7b",
   "metadata": {
    "tags": []
   },
   "outputs": [],
   "source": [
    "df_cleaned_files = sample_df_files.drop(\"symlink_target\")"
   ]
  },
  {
   "cell_type": "code",
   "execution_count": 16,
   "id": "d2c4b475-24e4-4603-b080-50113391fe75",
   "metadata": {
    "tags": []
   },
   "outputs": [
    {
     "name": "stderr",
     "output_type": "stream",
     "text": [
      "[Stage 36:===================================================>(1079 + 1) / 1080]\r"
     ]
    },
    {
     "name": "stdout",
     "output_type": "stream",
     "text": [
      "+---------+---+----+----+---+\n",
      "|repo_name|ref|path|mode|id |\n",
      "+---------+---+----+----+---+\n",
      "|0        |0  |0   |0   |0  |\n",
      "+---------+---+----+----+---+\n",
      "\n"
     ]
    },
    {
     "name": "stderr",
     "output_type": "stream",
     "text": [
      "                                                                                \r"
     ]
    }
   ],
   "source": [
    "# Check missing values again\n",
    "null_count(df_cleaned_files)"
   ]
  },
  {
   "cell_type": "code",
   "execution_count": 14,
   "id": "99d72bb8-b7fb-4e8d-8f77-602023d33a02",
   "metadata": {
    "tags": []
   },
   "outputs": [
    {
     "name": "stderr",
     "output_type": "stream",
     "text": [
      "[Stage 32:=======================================================>(58 + 1) / 59]\r"
     ]
    },
    {
     "name": "stdout",
     "output_type": "stream",
     "text": [
      "+---------+---+----+----+---+---------------+\n",
      "|repo_name|ref|path|mode|id |duplicate_count|\n",
      "+---------+---+----+----+---+---------------+\n",
      "+---------+---+----+----+---+---------------+\n",
      "\n"
     ]
    },
    {
     "name": "stderr",
     "output_type": "stream",
     "text": [
      "                                                                                \r"
     ]
    }
   ],
   "source": [
    "# Duplicate values\n",
    "show_duplicates(df_cleaned_files)"
   ]
  },
  {
   "cell_type": "code",
   "execution_count": null,
   "id": "7cc2b7d8-6696-4447-99e4-b7492fe7c43a",
   "metadata": {},
   "outputs": [],
   "source": []
  }
 ],
 "metadata": {
  "environment": {
   "kernel": "9c39b79e5d2e7072beb4bd59-runtime-000091a417d9",
   "name": "workbench-notebooks.m128",
   "type": "gcloud",
   "uri": "us-docker.pkg.dev/deeplearning-platform-release/gcr.io/workbench-notebooks:m128"
  },
  "kernelspec": {
   "display_name": "bdp-student-template on Serverless Spark (Remote)",
   "language": "python",
   "name": "9c39b79e5d2e7072beb4bd59-runtime-000091a417d9"
  },
  "language_info": {
   "codemirror_mode": {
    "name": "ipython",
    "version": 3
   },
   "file_extension": ".py",
   "mimetype": "text/x-python",
   "name": "python",
   "nbconvert_exporter": "python",
   "pygments_lexer": "ipython3",
   "version": "3.12.3"
  }
 },
 "nbformat": 4,
 "nbformat_minor": 5
}
